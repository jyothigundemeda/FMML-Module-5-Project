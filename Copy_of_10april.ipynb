{
  "nbformat": 4,
  "nbformat_minor": 0,
  "metadata": {
    "colab": {
      "provenance": [],
      "authorship_tag": "ABX9TyMUo0bUUHzTtYVYzhxfZy4L",
      "include_colab_link": true
    },
    "kernelspec": {
      "name": "python3",
      "display_name": "Python 3"
    },
    "language_info": {
      "name": "python"
    }
  },
  "cells": [
    {
      "cell_type": "markdown",
      "metadata": {
        "id": "view-in-github",
        "colab_type": "text"
      },
      "source": [
        "<a href=\"https://colab.research.google.com/github/jyothigundemeda/FMML-Module-5-Project/blob/main/Copy_of_10april.ipynb\" target=\"_parent\"><img src=\"https://colab.research.google.com/assets/colab-badge.svg\" alt=\"Open In Colab\"/></a>"
      ]
    },
    {
      "cell_type": "code",
      "execution_count": null,
      "metadata": {
        "id": "TL8b2T3B-zAW",
        "colab": {
          "base_uri": "https://localhost:8080/"
        },
        "outputId": "7b11d32d-eb05-4a62-fe8e-8ad3e3548a2a"
      },
      "outputs": [
        {
          "output_type": "stream",
          "name": "stdout",
          "text": [
            "enter in km: 45\n",
            "convertsion of km in miles: 27.961695\n"
          ]
        }
      ],
      "source": [
        "#1 conversion of km to m\n",
        "km = float(input(\"enter in km: \"))\n",
        "converstion = 0.621371\n",
        "miles = km*converstion\n",
        "print(\"convertsion of km in miles:\", miles)"
      ]
    },
    {
      "cell_type": "code",
      "source": [
        "#2 GCD two numbers in python\n",
        "import math\n",
        "a = int(input(\"enter first number: \"))\n",
        "b = int(input(\"enter second numbrer: \"))\n",
        "print(\"the gcd of a and b:\", end=\"\")\n",
        "print(math.gcd(a,b))"
      ],
      "metadata": {
        "colab": {
          "base_uri": "https://localhost:8080/"
        },
        "id": "KF_m8dk8BYzR",
        "outputId": "ee2c4e9a-f5e0-4779-bb8f-c62bb5615181"
      },
      "execution_count": null,
      "outputs": [
        {
          "output_type": "stream",
          "name": "stdout",
          "text": [
            "enter first number: 60\n",
            "enter second numbrer: 48\n",
            "the gcd of a and b:12\n"
          ]
        }
      ]
    },
    {
      "cell_type": "code",
      "source": [
        "#transpose of a matrix\n",
        "n = 4\n",
        "def transpose(a,b):\n",
        " for i in range(n):\n",
        "  for j in range(n):\n",
        "    b[i][j] = a[j][i]\n",
        "a = [[1, 1, 1, 1],\n",
        " [2, 2, 2, 2],\n",
        " [3, 3, 3, 3],\n",
        " [4, 4, 4, 4]]\n",
        "b = a[:][:]\n",
        "transpose(a,b)\n",
        "print(\"result of matrix is :\")\n",
        "for i in range(n):\n",
        "  for j in range(n):\n",
        "    print(b[i][j], \" \", end=\"\")\n",
        "  print()"
      ],
      "metadata": {
        "id": "ivrVFEZBDCMW",
        "colab": {
          "base_uri": "https://localhost:8080/"
        },
        "outputId": "54b5fb8f-7627-49df-df9d-2b94d7b5ea80"
      },
      "execution_count": null,
      "outputs": [
        {
          "output_type": "stream",
          "name": "stdout",
          "text": [
            "result of matrix is :\n",
            "1  2  3  4  \n",
            "2  2  3  4  \n",
            "3  3  3  4  \n",
            "4  4  4  4  \n"
          ]
        }
      ]
    },
    {
      "cell_type": "code",
      "source": [
        "#4 calendar\n",
        "import math\n",
        "import calendar\n",
        "yy = int(input(\"enter year:\"))\n",
        "mm = int(input(\"enter month:\"))\n",
        "print(calendar.month(yy, mm))"
      ],
      "metadata": {
        "colab": {
          "base_uri": "https://localhost:8080/"
        },
        "id": "gw7s1GUefeau",
        "outputId": "5fc422ac-676e-40e4-8ad3-100f62a98d12"
      },
      "execution_count": null,
      "outputs": [
        {
          "output_type": "stream",
          "name": "stdout",
          "text": [
            "enter year:2004\n",
            "enter month:3\n",
            "     March 2004\n",
            "Mo Tu We Th Fr Sa Su\n",
            " 1  2  3  4  5  6  7\n",
            " 8  9 10 11 12 13 14\n",
            "15 16 17 18 19 20 21\n",
            "22 23 24 25 26 27 28\n",
            "29 30 31\n",
            "\n"
          ]
        }
      ]
    },
    {
      "cell_type": "code",
      "source": [
        "#5\n",
        "numbers = [1, 2, 3, 4, 5, 6, 7, 8, 9, 10]\n",
        "even_numbers = list(filter(lambda x: x % 2 == 0, numbers))\n",
        "odd_numbers = list(filter(lambda x: x % 2 != 0, numbers))\n",
        "print(\"Even numbers:\", even_numbers)\n",
        "print(\"Odd numbers:\", odd_numbers)"
      ],
      "metadata": {
        "colab": {
          "base_uri": "https://localhost:8080/"
        },
        "id": "bd6SPnSuhJWp",
        "outputId": "63a6e523-1753-4aef-e349-56758439c277"
      },
      "execution_count": null,
      "outputs": [
        {
          "output_type": "stream",
          "name": "stdout",
          "text": [
            "Even numbers: [2, 4, 6, 8, 10]\n",
            "Odd numbers: [1, 3, 5, 7, 9]\n"
          ]
        }
      ]
    },
    {
      "cell_type": "code",
      "source": [
        "#6\n",
        "def remove_first_occurrence(arr, element):\n",
        "    try:\n",
        "        arr.remove(element)  # Remove the first occurrence of the specified element\n",
        "        return arr\n",
        "    except ValueError:\n",
        "        return arr\n",
        "my_array = [1, 2, 3, 4, 2, 5, 6]\n",
        "element_to_remove = 2\n",
        "modified_array = remove_first_occurrence(my_array, element_to_remove)\n",
        "\n",
        "print(\"Original Array:\", my_array)\n",
        "print(\"Modified Array:\", modified_array)"
      ],
      "metadata": {
        "colab": {
          "base_uri": "https://localhost:8080/"
        },
        "id": "n-EIIcLShWy1",
        "outputId": "0f2cb487-ca88-4152-cf6b-99d7135f020a"
      },
      "execution_count": null,
      "outputs": [
        {
          "output_type": "stream",
          "name": "stdout",
          "text": [
            "Original Array: [1, 3, 4, 2, 5, 6]\n",
            "Modified Array: [1, 3, 4, 2, 5, 6]\n"
          ]
        }
      ]
    },
    {
      "cell_type": "code",
      "source": [
        "#7\n",
        "values = ['apple', 'banana', 'orange', 'grapes', 'kiwi', 'watermelon', 'pear']\n",
        "filtered_values = list(filter(lambda x: len(x) == 6, values))\n",
        "print(\"Values with length 6:\", filtered_values)"
      ],
      "metadata": {
        "colab": {
          "base_uri": "https://localhost:8080/"
        },
        "id": "Brt-OPG0iEoe",
        "outputId": "4654127c-1d5d-4edc-9a13-4ad3670ce521"
      },
      "execution_count": null,
      "outputs": [
        {
          "output_type": "stream",
          "name": "stdout",
          "text": [
            "Values with length 6: ['banana', 'orange', 'grapes']\n"
          ]
        }
      ]
    },
    {
      "cell_type": "code",
      "source": [
        "#8\n",
        "def find_max_product_pair(arr):\n",
        "    if len(arr) < 2:\n",
        "        return \"Array should have at least two elements.\"\n",
        "\n",
        "    max_product = float('-inf')\n",
        "    max_pair = ()\n",
        "\n",
        "    for i in range(len(arr)):\n",
        "        for j in range(i + 1, len(arr)):\n",
        "            product = arr[i] * arr[j]\n",
        "            if product > max_product:\n",
        "                max_product = product\n",
        "                max_pair = (arr[i], arr[j])\n",
        "    return max_pair\n",
        "numbers = [1, 2, 3, 4, 5, 6]\n",
        "result = find_max_product_pair(numbers)\n",
        "print(\"Pair with the highest product:\", result)\n"
      ],
      "metadata": {
        "colab": {
          "base_uri": "https://localhost:8080/"
        },
        "id": "K9DjgubUjBzx",
        "outputId": "5c940938-bdbe-484f-bb54-a34aa9e321be"
      },
      "execution_count": null,
      "outputs": [
        {
          "output_type": "stream",
          "name": "stdout",
          "text": [
            "Pair with the highest product: (5, 6)\n"
          ]
        }
      ]
    },
    {
      "cell_type": "code",
      "source": [
        "#9\n",
        "def power(a, b):\n",
        "    if b == 0:\n",
        "        return 1\n",
        "    elif b > 0:\n",
        "        return a * power(a, b - 1)\n",
        "    else:\n",
        "        return 1 / power(a, -b)\n",
        "a = float(input(\"Enter the base (a): \"))\n",
        "b = int(input(\"Enter the exponent (b): \"))\n",
        "result = power(a, b)\n",
        "print(f\"{a} raised to the power of {b} is equal to {result}\")"
      ],
      "metadata": {
        "colab": {
          "base_uri": "https://localhost:8080/"
        },
        "id": "JCUkFVC0j7XH",
        "outputId": "28e3ffbd-18d5-4ec8-9d44-53adf5bf6dc4"
      },
      "execution_count": null,
      "outputs": [
        {
          "output_type": "stream",
          "name": "stdout",
          "text": [
            "Enter the base (a): 5\n",
            "Enter the exponent (b): 6\n",
            "5.0 raised to the power of 6 is equal to 15625.0\n"
          ]
        }
      ]
    },
    {
      "cell_type": "code",
      "source": [
        "#10\n",
        "def month_to_days_dict(month_name):\n",
        "    months_dict = {\n",
        "        'January': 31, 'February': 28, 'March': 31, 'April': 30, 'May': 31,\n",
        "        'June': 30, 'July': 31, 'August': 31, 'September': 30, 'October': 31,\n",
        "        'November': 30, 'December': 31\n",
        "    }\n",
        "    return months_dict.get(month_name.capitalize(), None)\n",
        "\n",
        "month_name = input(\"Enter the month name: \")\n",
        "days = month_to_days_dict(month_name)\n",
        "\n",
        "if days is not None:\n",
        "    print(f\"{month_name} has {days} days.\")\n",
        "else:\n",
        "    print(\"Invalid month name entered.\")\n"
      ],
      "metadata": {
        "id": "5nBJshqFmd9g"
      },
      "execution_count": null,
      "outputs": []
    }
  ]
}